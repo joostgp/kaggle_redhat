{
 "cells": [
  {
   "cell_type": "code",
   "execution_count": 1,
   "metadata": {
    "collapsed": false
   },
   "outputs": [],
   "source": [
    "import pandas as pd\n",
    "import numpy as np\n",
    "#import seaborn as sns\n",
    "import matplotlib.pyplot as plt\n",
    "\n",
    "%matplotlib inline"
   ]
  },
  {
   "cell_type": "code",
   "execution_count": 2,
   "metadata": {
    "collapsed": true
   },
   "outputs": [],
   "source": [
    "people = pd.read_csv('people.csv')\n",
    "train = pd.read_csv('act_train.csv')"
   ]
  },
  {
   "cell_type": "code",
   "execution_count": 3,
   "metadata": {
    "collapsed": false
   },
   "outputs": [
    {
     "name": "stdout",
     "output_type": "stream",
     "text": [
      "Shape people dataset: (189118, 41)\n",
      "Shape train dataset: (2197291, 15)\n"
     ]
    }
   ],
   "source": [
    "print 'Shape people dataset:', people.shape\n",
    "print 'Shape train dataset:', train.shape"
   ]
  },
  {
   "cell_type": "code",
   "execution_count": null,
   "metadata": {
    "collapsed": false
   },
   "outputs": [],
   "source": [
    "# Remove type label from people dataset\n",
    "for d in range(1,10):\n",
    "    people['char_%d' % d] = people['char_%d' % d].str.strip('type ').astype(int)\n",
    "    \n",
    "# Rename columns\n",
    "people.columns = [people.columns[0]] + ['p_' + c for c in people.columns[1:]]\n",
    "\n",
    "# Remove type label from people dataset\n",
    "train.fillna('0', inplace=True)\n",
    "for d in range(1,11):\n",
    "    train['char_%d' % d] = train['char_%d' % d].str.strip('type ').astype(int)\n",
    "train['activity_category'] = train['activity_category'].str.strip('type ').astype(int)"
   ]
  },
  {
   "cell_type": "code",
   "execution_count": 5,
   "metadata": {
    "collapsed": false
   },
   "outputs": [],
   "source": [
    "merged = pd.merge(people, train, how='inner', on='people_id')"
   ]
  },
  {
   "cell_type": "code",
   "execution_count": 6,
   "metadata": {
    "collapsed": false
   },
   "outputs": [
    {
     "data": {
      "text/plain": [
       "(2197291, 55)"
      ]
     },
     "execution_count": 6,
     "metadata": {},
     "output_type": "execute_result"
    }
   ],
   "source": [
    "merged.shape"
   ]
  },
  {
   "cell_type": "code",
   "execution_count": 7,
   "metadata": {
    "collapsed": false
   },
   "outputs": [
    {
     "data": {
      "text/plain": [
       "Index([u'people_id', u'p_char_1', u'p_group_1', u'p_char_2', u'p_date',\n",
       "       u'p_char_3', u'p_char_4', u'p_char_5', u'p_char_6', u'p_char_7',\n",
       "       u'p_char_8', u'p_char_9', u'p_char_10', u'p_char_11', u'p_char_12',\n",
       "       u'p_char_13', u'p_char_14', u'p_char_15', u'p_char_16', u'p_char_17',\n",
       "       u'p_char_18', u'p_char_19', u'p_char_20', u'p_char_21', u'p_char_22',\n",
       "       u'p_char_23', u'p_char_24', u'p_char_25', u'p_char_26', u'p_char_27',\n",
       "       u'p_char_28', u'p_char_29', u'p_char_30', u'p_char_31', u'p_char_32',\n",
       "       u'p_char_33', u'p_char_34', u'p_char_35', u'p_char_36', u'p_char_37',\n",
       "       u'p_char_38', u'activity_id', u'date', u'activity_category', u'char_1',\n",
       "       u'char_2', u'char_3', u'char_4', u'char_5', u'char_6', u'char_7',\n",
       "       u'char_8', u'char_9', u'char_10', u'outcome'],\n",
       "      dtype='object')"
      ]
     },
     "execution_count": 7,
     "metadata": {},
     "output_type": "execute_result"
    }
   ],
   "source": [
    "merged.columns"
   ]
  },
  {
   "cell_type": "code",
   "execution_count": 8,
   "metadata": {
    "collapsed": false
   },
   "outputs": [
    {
     "data": {
      "text/html": [
       "<div>\n",
       "<table border=\"1\" class=\"dataframe\">\n",
       "  <thead>\n",
       "    <tr style=\"text-align: right;\">\n",
       "      <th></th>\n",
       "      <th>people_id</th>\n",
       "      <th>p_char_1</th>\n",
       "      <th>p_group_1</th>\n",
       "      <th>p_char_2</th>\n",
       "      <th>p_date</th>\n",
       "      <th>p_char_3</th>\n",
       "      <th>p_char_4</th>\n",
       "      <th>p_char_5</th>\n",
       "      <th>p_char_6</th>\n",
       "      <th>p_char_7</th>\n",
       "      <th>...</th>\n",
       "      <th>char_2</th>\n",
       "      <th>char_3</th>\n",
       "      <th>char_4</th>\n",
       "      <th>char_5</th>\n",
       "      <th>char_6</th>\n",
       "      <th>char_7</th>\n",
       "      <th>char_8</th>\n",
       "      <th>char_9</th>\n",
       "      <th>char_10</th>\n",
       "      <th>outcome</th>\n",
       "    </tr>\n",
       "  </thead>\n",
       "  <tbody>\n",
       "    <tr>\n",
       "      <th>0</th>\n",
       "      <td>ppl_100</td>\n",
       "      <td>2</td>\n",
       "      <td>group 17304</td>\n",
       "      <td>2</td>\n",
       "      <td>2021-06-29</td>\n",
       "      <td>5</td>\n",
       "      <td>5</td>\n",
       "      <td>5</td>\n",
       "      <td>3</td>\n",
       "      <td>11</td>\n",
       "      <td>...</td>\n",
       "      <td>-1</td>\n",
       "      <td>-1</td>\n",
       "      <td>-1</td>\n",
       "      <td>-1</td>\n",
       "      <td>-1</td>\n",
       "      <td>-1</td>\n",
       "      <td>-1</td>\n",
       "      <td>-1</td>\n",
       "      <td>76</td>\n",
       "      <td>0</td>\n",
       "    </tr>\n",
       "    <tr>\n",
       "      <th>1</th>\n",
       "      <td>ppl_100</td>\n",
       "      <td>2</td>\n",
       "      <td>group 17304</td>\n",
       "      <td>2</td>\n",
       "      <td>2021-06-29</td>\n",
       "      <td>5</td>\n",
       "      <td>5</td>\n",
       "      <td>5</td>\n",
       "      <td>3</td>\n",
       "      <td>11</td>\n",
       "      <td>...</td>\n",
       "      <td>-1</td>\n",
       "      <td>-1</td>\n",
       "      <td>-1</td>\n",
       "      <td>-1</td>\n",
       "      <td>-1</td>\n",
       "      <td>-1</td>\n",
       "      <td>-1</td>\n",
       "      <td>-1</td>\n",
       "      <td>1</td>\n",
       "      <td>0</td>\n",
       "    </tr>\n",
       "    <tr>\n",
       "      <th>2</th>\n",
       "      <td>ppl_100</td>\n",
       "      <td>2</td>\n",
       "      <td>group 17304</td>\n",
       "      <td>2</td>\n",
       "      <td>2021-06-29</td>\n",
       "      <td>5</td>\n",
       "      <td>5</td>\n",
       "      <td>5</td>\n",
       "      <td>3</td>\n",
       "      <td>11</td>\n",
       "      <td>...</td>\n",
       "      <td>-1</td>\n",
       "      <td>-1</td>\n",
       "      <td>-1</td>\n",
       "      <td>-1</td>\n",
       "      <td>-1</td>\n",
       "      <td>-1</td>\n",
       "      <td>-1</td>\n",
       "      <td>-1</td>\n",
       "      <td>1</td>\n",
       "      <td>0</td>\n",
       "    </tr>\n",
       "    <tr>\n",
       "      <th>3</th>\n",
       "      <td>ppl_100</td>\n",
       "      <td>2</td>\n",
       "      <td>group 17304</td>\n",
       "      <td>2</td>\n",
       "      <td>2021-06-29</td>\n",
       "      <td>5</td>\n",
       "      <td>5</td>\n",
       "      <td>5</td>\n",
       "      <td>3</td>\n",
       "      <td>11</td>\n",
       "      <td>...</td>\n",
       "      <td>-1</td>\n",
       "      <td>-1</td>\n",
       "      <td>-1</td>\n",
       "      <td>-1</td>\n",
       "      <td>-1</td>\n",
       "      <td>-1</td>\n",
       "      <td>-1</td>\n",
       "      <td>-1</td>\n",
       "      <td>1</td>\n",
       "      <td>0</td>\n",
       "    </tr>\n",
       "    <tr>\n",
       "      <th>4</th>\n",
       "      <td>ppl_100</td>\n",
       "      <td>2</td>\n",
       "      <td>group 17304</td>\n",
       "      <td>2</td>\n",
       "      <td>2021-06-29</td>\n",
       "      <td>5</td>\n",
       "      <td>5</td>\n",
       "      <td>5</td>\n",
       "      <td>3</td>\n",
       "      <td>11</td>\n",
       "      <td>...</td>\n",
       "      <td>-1</td>\n",
       "      <td>-1</td>\n",
       "      <td>-1</td>\n",
       "      <td>-1</td>\n",
       "      <td>-1</td>\n",
       "      <td>-1</td>\n",
       "      <td>-1</td>\n",
       "      <td>-1</td>\n",
       "      <td>1</td>\n",
       "      <td>0</td>\n",
       "    </tr>\n",
       "  </tbody>\n",
       "</table>\n",
       "<p>5 rows × 55 columns</p>\n",
       "</div>"
      ],
      "text/plain": [
       "  people_id  p_char_1    p_group_1  p_char_2      p_date  p_char_3  p_char_4  \\\n",
       "0   ppl_100         2  group 17304         2  2021-06-29         5         5   \n",
       "1   ppl_100         2  group 17304         2  2021-06-29         5         5   \n",
       "2   ppl_100         2  group 17304         2  2021-06-29         5         5   \n",
       "3   ppl_100         2  group 17304         2  2021-06-29         5         5   \n",
       "4   ppl_100         2  group 17304         2  2021-06-29         5         5   \n",
       "\n",
       "   p_char_5  p_char_6  p_char_7   ...    char_2  char_3 char_4 char_5 char_6  \\\n",
       "0         5         3        11   ...        -1      -1     -1     -1     -1   \n",
       "1         5         3        11   ...        -1      -1     -1     -1     -1   \n",
       "2         5         3        11   ...        -1      -1     -1     -1     -1   \n",
       "3         5         3        11   ...        -1      -1     -1     -1     -1   \n",
       "4         5         3        11   ...        -1      -1     -1     -1     -1   \n",
       "\n",
       "  char_7 char_8 char_9 char_10 outcome  \n",
       "0     -1     -1     -1      76       0  \n",
       "1     -1     -1     -1       1       0  \n",
       "2     -1     -1     -1       1       0  \n",
       "3     -1     -1     -1       1       0  \n",
       "4     -1     -1     -1       1       0  \n",
       "\n",
       "[5 rows x 55 columns]"
      ]
     },
     "execution_count": 8,
     "metadata": {},
     "output_type": "execute_result"
    }
   ],
   "source": [
    "merged.head()"
   ]
  },
  {
   "cell_type": "code",
   "execution_count": 9,
   "metadata": {
    "collapsed": true
   },
   "outputs": [],
   "source": [
    "activity = merged.groupby('people_id')"
   ]
  },
  {
   "cell_type": "code",
   "execution_count": 10,
   "metadata": {
    "collapsed": false
   },
   "outputs": [
    {
     "data": {
      "text/plain": [
       "people_id\n",
       "ppl_294918    55103\n",
       "ppl_370270    53668\n",
       "ppl_105739    45936\n",
       "ppl_54699     23969\n",
       "ppl_64887      7052\n",
       "dtype: int64"
      ]
     },
     "execution_count": 10,
     "metadata": {},
     "output_type": "execute_result"
    }
   ],
   "source": [
    "activity.size().sort_values(ascending=False).head()"
   ]
  },
  {
   "cell_type": "code",
   "execution_count": 11,
   "metadata": {
    "collapsed": false
   },
   "outputs": [
    {
     "data": {
      "text/plain": [
       "<matplotlib.axes._subplots.AxesSubplot at 0x104059bd0>"
      ]
     },
     "execution_count": 11,
     "metadata": {},
     "output_type": "execute_result"
    },
    {
     "data": {
      "image/png": "[encoded data removed]",
      "text/plain": [
       "<matplotlib.figure.Figure at 0x111fadf10>"
      ]
     },
     "metadata": {},
     "output_type": "display_data"
    }
   ],
   "source": [
    "activity.outcome.std().hist()\n",
    "# There are a couple of people_id values that and have multiple outcomes"
   ]
  },
  {
   "cell_type": "code",
   "execution_count": 12,
   "metadata": {
    "collapsed": false
   },
   "outputs": [],
   "source": [
    "C = merged.corr()"
   ]
  },
  {
   "cell_type": "code",
   "execution_count": 13,
   "metadata": {
    "collapsed": false
   },
   "outputs": [
    {
     "data": {
      "text/plain": [
       "<matplotlib.axes._subplots.AxesSubplot at 0x127fc3cd0>"
      ]
     },
     "execution_count": 13,
     "metadata": {},
     "output_type": "execute_result"
    },
    {
     "data": {
      "image/png": "[encoded data removed]",
      "text/plain": [
       "<matplotlib.figure.Figure at 0x111fad650>"
      ]
     },
     "metadata": {},
     "output_type": "display_data"
    }
   ],
   "source": [
    "C.outcome.sort_values(ascending=False).plot(kind='barh', figsize=(3,10))"
   ]
  },
  {
   "cell_type": "code",
   "execution_count": 14,
   "metadata": {
    "collapsed": false
   },
   "outputs": [
    {
     "data": {
      "text/plain": [
       "<matplotlib.axes._subplots.AxesSubplot at 0x11f8e7650>"
      ]
     },
     "execution_count": 14,
     "metadata": {},
     "output_type": "execute_result"
    },
    {
     "data": {
      "image/png": "[encoded data removed]",
      "text/plain": [
       "<matplotlib.figure.Figure at 0x11f8f4890>"
      ]
     },
     "metadata": {},
     "output_type": "display_data"
    }
   ],
   "source": [
    "C.p_char_38.sort_values(ascending=False).plot(kind='barh', figsize=(3,10))"
   ]
  },
  {
   "cell_type": "code",
   "execution_count": 16,
   "metadata": {
    "collapsed": false
   },
   "outputs": [
    {
     "name": "stdout",
     "output_type": "stream",
     "text": [
      "Feat people_id nunique: 151295\n",
      "Feat p_char_1 nunique: 2\n",
      "Feat p_group_1 nunique: 29899\n",
      "Feat p_char_2 nunique: 3\n",
      "Feat p_date nunique: 1196\n",
      "Feat p_char_3 nunique: 43\n",
      "Feat p_char_4 nunique: 25\n",
      "Feat p_char_5 nunique: 9\n",
      "Feat p_char_6 nunique: 7\n",
      "Feat p_char_7 nunique: 25\n",
      "Feat p_char_8 nunique: 8\n",
      "Feat p_char_9 nunique: 9\n",
      "Feat p_char_10 nunique: 2\n",
      "Feat p_char_11 nunique: 2\n",
      "Feat p_char_12 nunique: 2\n",
      "Feat p_char_13 nunique: 2\n",
      "Feat p_char_14 nunique: 2\n",
      "Feat p_char_15 nunique: 2\n",
      "Feat p_char_16 nunique: 2\n",
      "Feat p_char_17 nunique: 2\n",
      "Feat p_char_18 nunique: 2\n",
      "Feat p_char_19 nunique: 2\n",
      "Feat p_char_20 nunique: 2\n",
      "Feat p_char_21 nunique: 2\n",
      "Feat p_char_22 nunique: 2\n",
      "Feat p_char_23 nunique: 2\n",
      "Feat p_char_24 nunique: 2\n",
      "Feat p_char_25 nunique: 2\n",
      "Feat p_char_26 nunique: 2\n",
      "Feat p_char_27 nunique: 2\n",
      "Feat p_char_28 nunique: 2\n",
      "Feat p_char_29 nunique: 2\n",
      "Feat p_char_30 nunique: 2\n",
      "Feat p_char_31 nunique: 2\n",
      "Feat p_char_32 nunique: 2\n",
      "Feat p_char_33 nunique: 2\n",
      "Feat p_char_34 nunique: 2\n",
      "Feat p_char_35 nunique: 2\n",
      "Feat p_char_36 nunique: 2\n",
      "Feat p_char_37 nunique: 2\n",
      "Feat p_char_38 nunique: 101\n",
      "Feat activity_id nunique: 2197291\n",
      "Feat date nunique: 411\n",
      "Feat activity_category nunique: 7\n",
      "Feat char_1 nunique: 52\n",
      "Feat char_2 nunique: 33\n",
      "Feat char_3 nunique: 12\n",
      "Feat char_4 nunique: 8\n",
      "Feat char_5 nunique: 8\n",
      "Feat char_6 nunique: 6\n",
      "Feat char_7 nunique: 9\n",
      "Feat char_8 nunique: 19\n",
      "Feat char_9 nunique: 20\n",
      "Feat char_10 nunique: 6516\n",
      "Feat outcome nunique: 2\n",
      "Total features: 363\n"
     ]
    }
   ],
   "source": [
    "fea_count = 0 \n",
    "for c in merged.columns:\n",
    "    print('Feat %s nunique: %d' % (c,merged[c].nunique()))\n",
    "    if merged[c].nunique()<55:\n",
    "        fea_count+=merged[c].nunique()\n",
    "print('Total features: %d' % fea_count)"
   ]
  },
  {
   "cell_type": "code",
   "execution_count": null,
   "metadata": {
    "collapsed": true
   },
   "outputs": [],
   "source": []
  }
 ],
 "metadata": {
  "kernelspec": {
   "display_name": "Python 2",
   "language": "python",
   "name": "python2"
  },
  "language_info": {
   "codemirror_mode": {
    "name": "ipython",
    "version": 2
   },
   "file_extension": ".py",
   "mimetype": "text/x-python",
   "name": "python",
   "nbconvert_exporter": "python",
   "pygments_lexer": "ipython2",
   "version": "2.7.11"
  }
 },
 "nbformat": 4,
 "nbformat_minor": 0
}
