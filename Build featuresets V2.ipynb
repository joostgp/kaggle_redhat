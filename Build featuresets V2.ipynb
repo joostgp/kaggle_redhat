{
 "cells": [
  {
   "cell_type": "code",
   "execution_count": 60,
   "metadata": {
    "collapsed": true
   },
   "outputs": [],
   "source": [
    "import pickle\n",
    "\n",
    "\n",
    "import pandas as pd\n",
    "import numpy as np\n",
    "import seaborn as sns\n",
    "import matplotlib.pyplot as plt\n",
    "from sklearn.preprocessing import OneHotEncoder\n",
    "%matplotlib inline"
   ]
  },
  {
   "cell_type": "markdown",
   "metadata": {},
   "source": [
    "### Load data"
   ]
  },
  {
   "cell_type": "code",
   "execution_count": 25,
   "metadata": {
    "collapsed": false
   },
   "outputs": [],
   "source": [
    "people = pd.read_csv('./data_ori/people.csv', \n",
    "                     parse_dates=['date'], \n",
    "                     dtype={'people_id': np.str, 'activity_id': np.str, 'char_38': np.int32})\n",
    "train = pd.read_csv('./data_ori/act_train.csv', \n",
    "                    parse_dates=['date'], \n",
    "                    dtype={'people_id': np.str, 'activity_id': np.str, 'outcome': np.int8})\n",
    "test = pd.read_csv('./data_ori/act_test.csv', \n",
    "                   parse_dates=['date'], \n",
    "                   dtype={'people_id': np.str, 'activity_id': np.str})"
   ]
  },
  {
   "cell_type": "markdown",
   "metadata": {},
   "source": [
    "### Preprocess data"
   ]
  },
  {
   "cell_type": "code",
   "execution_count": 26,
   "metadata": {
    "collapsed": true
   },
   "outputs": [],
   "source": [
    "def preprocess(df):\n",
    "    for col in df.columns:\n",
    "        if col not in ['people_id', 'activity_id', 'date', 'char_38', 'outcome']:\n",
    "            if df[col].dtype == 'object':\n",
    "                df[col].fillna('type 0', inplace=True)\n",
    "                df[col] = df[col].apply(lambda x: x.split(' ')[1]).astype(np.int32)\n",
    "            elif df[col].dtype == 'bool':\n",
    "                df[col] = df[col].astype(np.int8)\n",
    "                \n",
    "    df['year'] = df['date'].dt.year\n",
    "    df['month'] = df['date'].dt.month\n",
    "    df['day'] = df['date'].dt.day\n",
    "    df['isweekend'] = (df['date'].dt.weekday >= 5).astype(int)\n",
    "    df.drop('date', axis=1, inplace=True)\n",
    "    \n",
    "    return df"
   ]
  },
  {
   "cell_type": "code",
   "execution_count": 27,
   "metadata": {
    "collapsed": false
   },
   "outputs": [],
   "source": [
    "for df in [people, train, test]:\n",
    "    df = preprocess(df)"
   ]
  },
  {
   "cell_type": "code",
   "execution_count": 28,
   "metadata": {
    "collapsed": false
   },
   "outputs": [
    {
     "data": {
      "text/html": [
       "<div>\n",
       "<table border=\"1\" class=\"dataframe\">\n",
       "  <thead>\n",
       "    <tr style=\"text-align: right;\">\n",
       "      <th></th>\n",
       "      <th>people_id</th>\n",
       "      <th>char_1</th>\n",
       "      <th>group_1</th>\n",
       "      <th>char_2</th>\n",
       "      <th>char_3</th>\n",
       "      <th>char_4</th>\n",
       "      <th>char_5</th>\n",
       "      <th>char_6</th>\n",
       "      <th>char_7</th>\n",
       "      <th>char_8</th>\n",
       "      <th>...</th>\n",
       "      <th>char_33</th>\n",
       "      <th>char_34</th>\n",
       "      <th>char_35</th>\n",
       "      <th>char_36</th>\n",
       "      <th>char_37</th>\n",
       "      <th>char_38</th>\n",
       "      <th>year</th>\n",
       "      <th>month</th>\n",
       "      <th>day</th>\n",
       "      <th>isweekend</th>\n",
       "    </tr>\n",
       "  </thead>\n",
       "  <tbody>\n",
       "    <tr>\n",
       "      <th>0</th>\n",
       "      <td>ppl_100</td>\n",
       "      <td>2</td>\n",
       "      <td>17304</td>\n",
       "      <td>2</td>\n",
       "      <td>5</td>\n",
       "      <td>5</td>\n",
       "      <td>5</td>\n",
       "      <td>3</td>\n",
       "      <td>11</td>\n",
       "      <td>2</td>\n",
       "      <td>...</td>\n",
       "      <td>0</td>\n",
       "      <td>1</td>\n",
       "      <td>1</td>\n",
       "      <td>1</td>\n",
       "      <td>0</td>\n",
       "      <td>36</td>\n",
       "      <td>2021</td>\n",
       "      <td>6</td>\n",
       "      <td>29</td>\n",
       "      <td>0</td>\n",
       "    </tr>\n",
       "    <tr>\n",
       "      <th>1</th>\n",
       "      <td>ppl_100002</td>\n",
       "      <td>2</td>\n",
       "      <td>8688</td>\n",
       "      <td>3</td>\n",
       "      <td>28</td>\n",
       "      <td>9</td>\n",
       "      <td>5</td>\n",
       "      <td>3</td>\n",
       "      <td>11</td>\n",
       "      <td>2</td>\n",
       "      <td>...</td>\n",
       "      <td>1</td>\n",
       "      <td>1</td>\n",
       "      <td>1</td>\n",
       "      <td>1</td>\n",
       "      <td>0</td>\n",
       "      <td>76</td>\n",
       "      <td>2021</td>\n",
       "      <td>1</td>\n",
       "      <td>6</td>\n",
       "      <td>0</td>\n",
       "    </tr>\n",
       "    <tr>\n",
       "      <th>2</th>\n",
       "      <td>ppl_100003</td>\n",
       "      <td>2</td>\n",
       "      <td>33592</td>\n",
       "      <td>3</td>\n",
       "      <td>4</td>\n",
       "      <td>8</td>\n",
       "      <td>5</td>\n",
       "      <td>2</td>\n",
       "      <td>5</td>\n",
       "      <td>2</td>\n",
       "      <td>...</td>\n",
       "      <td>1</td>\n",
       "      <td>1</td>\n",
       "      <td>0</td>\n",
       "      <td>1</td>\n",
       "      <td>1</td>\n",
       "      <td>99</td>\n",
       "      <td>2022</td>\n",
       "      <td>6</td>\n",
       "      <td>10</td>\n",
       "      <td>0</td>\n",
       "    </tr>\n",
       "    <tr>\n",
       "      <th>3</th>\n",
       "      <td>ppl_100004</td>\n",
       "      <td>2</td>\n",
       "      <td>22593</td>\n",
       "      <td>3</td>\n",
       "      <td>40</td>\n",
       "      <td>25</td>\n",
       "      <td>9</td>\n",
       "      <td>4</td>\n",
       "      <td>16</td>\n",
       "      <td>2</td>\n",
       "      <td>...</td>\n",
       "      <td>1</td>\n",
       "      <td>1</td>\n",
       "      <td>1</td>\n",
       "      <td>1</td>\n",
       "      <td>1</td>\n",
       "      <td>76</td>\n",
       "      <td>2022</td>\n",
       "      <td>7</td>\n",
       "      <td>20</td>\n",
       "      <td>0</td>\n",
       "    </tr>\n",
       "    <tr>\n",
       "      <th>4</th>\n",
       "      <td>ppl_100006</td>\n",
       "      <td>2</td>\n",
       "      <td>6534</td>\n",
       "      <td>3</td>\n",
       "      <td>40</td>\n",
       "      <td>25</td>\n",
       "      <td>9</td>\n",
       "      <td>3</td>\n",
       "      <td>8</td>\n",
       "      <td>2</td>\n",
       "      <td>...</td>\n",
       "      <td>0</td>\n",
       "      <td>0</td>\n",
       "      <td>1</td>\n",
       "      <td>1</td>\n",
       "      <td>0</td>\n",
       "      <td>84</td>\n",
       "      <td>2022</td>\n",
       "      <td>7</td>\n",
       "      <td>27</td>\n",
       "      <td>0</td>\n",
       "    </tr>\n",
       "  </tbody>\n",
       "</table>\n",
       "<p>5 rows × 44 columns</p>\n",
       "</div>"
      ],
      "text/plain": [
       "    people_id  char_1  group_1  char_2  char_3  char_4  char_5  char_6  \\\n",
       "0     ppl_100       2    17304       2       5       5       5       3   \n",
       "1  ppl_100002       2     8688       3      28       9       5       3   \n",
       "2  ppl_100003       2    33592       3       4       8       5       2   \n",
       "3  ppl_100004       2    22593       3      40      25       9       4   \n",
       "4  ppl_100006       2     6534       3      40      25       9       3   \n",
       "\n",
       "   char_7  char_8    ...      char_33  char_34  char_35  char_36  char_37  \\\n",
       "0      11       2    ...            0        1        1        1        0   \n",
       "1      11       2    ...            1        1        1        1        0   \n",
       "2       5       2    ...            1        1        0        1        1   \n",
       "3      16       2    ...            1        1        1        1        1   \n",
       "4       8       2    ...            0        0        1        1        0   \n",
       "\n",
       "   char_38  year  month  day  isweekend  \n",
       "0       36  2021      6   29          0  \n",
       "1       76  2021      1    6          0  \n",
       "2       99  2022      6   10          0  \n",
       "3       76  2022      7   20          0  \n",
       "4       84  2022      7   27          0  \n",
       "\n",
       "[5 rows x 44 columns]"
      ]
     },
     "execution_count": 28,
     "metadata": {},
     "output_type": "execute_result"
    }
   ],
   "source": [
    "people.head()"
   ]
  },
  {
   "cell_type": "code",
   "execution_count": 29,
   "metadata": {
    "collapsed": true
   },
   "outputs": [],
   "source": [
    "people.columns = [people.columns[0]] + ['p_' + c for c in people.columns[1:]]"
   ]
  },
  {
   "cell_type": "code",
   "execution_count": 30,
   "metadata": {
    "collapsed": false
   },
   "outputs": [],
   "source": [
    "train = pd.merge(train, people, how='left', on='people_id')\n",
    "test = pd.merge(test, people, how='left', on='people_id')"
   ]
  },
  {
   "cell_type": "code",
   "execution_count": 31,
   "metadata": {
    "collapsed": false
   },
   "outputs": [
    {
     "data": {
      "text/plain": [
       "2197291"
      ]
     },
     "execution_count": 31,
     "metadata": {},
     "output_type": "execute_result"
    }
   ],
   "source": [
    "train.shape[0]"
   ]
  },
  {
   "cell_type": "code",
   "execution_count": 32,
   "metadata": {
    "collapsed": false
   },
   "outputs": [
    {
     "data": {
      "text/plain": [
       "2197291"
      ]
     },
     "execution_count": 32,
     "metadata": {},
     "output_type": "execute_result"
    }
   ],
   "source": [
    "train.activity_id.nunique()\n"
   ]
  },
  {
   "cell_type": "code",
   "execution_count": 33,
   "metadata": {
    "collapsed": false
   },
   "outputs": [
    {
     "data": {
      "text/html": [
       "<div>\n",
       "<table border=\"1\" class=\"dataframe\">\n",
       "  <thead>\n",
       "    <tr style=\"text-align: right;\">\n",
       "      <th></th>\n",
       "      <th>people_id</th>\n",
       "      <th>activity_id</th>\n",
       "      <th>activity_category</th>\n",
       "      <th>char_1</th>\n",
       "      <th>char_2</th>\n",
       "      <th>char_3</th>\n",
       "      <th>char_4</th>\n",
       "      <th>char_5</th>\n",
       "      <th>char_6</th>\n",
       "      <th>char_7</th>\n",
       "      <th>...</th>\n",
       "      <th>p_char_33</th>\n",
       "      <th>p_char_34</th>\n",
       "      <th>p_char_35</th>\n",
       "      <th>p_char_36</th>\n",
       "      <th>p_char_37</th>\n",
       "      <th>p_char_38</th>\n",
       "      <th>p_year</th>\n",
       "      <th>p_month</th>\n",
       "      <th>p_day</th>\n",
       "      <th>p_isweekend</th>\n",
       "    </tr>\n",
       "    <tr>\n",
       "      <th>activity_id</th>\n",
       "      <th></th>\n",
       "      <th></th>\n",
       "      <th></th>\n",
       "      <th></th>\n",
       "      <th></th>\n",
       "      <th></th>\n",
       "      <th></th>\n",
       "      <th></th>\n",
       "      <th></th>\n",
       "      <th></th>\n",
       "      <th></th>\n",
       "      <th></th>\n",
       "      <th></th>\n",
       "      <th></th>\n",
       "      <th></th>\n",
       "      <th></th>\n",
       "      <th></th>\n",
       "      <th></th>\n",
       "      <th></th>\n",
       "      <th></th>\n",
       "      <th></th>\n",
       "    </tr>\n",
       "  </thead>\n",
       "  <tbody>\n",
       "    <tr>\n",
       "      <th>act2_1734928</th>\n",
       "      <td>ppl_100</td>\n",
       "      <td>act2_1734928</td>\n",
       "      <td>4</td>\n",
       "      <td>0</td>\n",
       "      <td>0</td>\n",
       "      <td>0</td>\n",
       "      <td>0</td>\n",
       "      <td>0</td>\n",
       "      <td>0</td>\n",
       "      <td>0</td>\n",
       "      <td>...</td>\n",
       "      <td>0</td>\n",
       "      <td>1</td>\n",
       "      <td>1</td>\n",
       "      <td>1</td>\n",
       "      <td>0</td>\n",
       "      <td>36</td>\n",
       "      <td>2021</td>\n",
       "      <td>6</td>\n",
       "      <td>29</td>\n",
       "      <td>0</td>\n",
       "    </tr>\n",
       "    <tr>\n",
       "      <th>act2_2434093</th>\n",
       "      <td>ppl_100</td>\n",
       "      <td>act2_2434093</td>\n",
       "      <td>2</td>\n",
       "      <td>0</td>\n",
       "      <td>0</td>\n",
       "      <td>0</td>\n",
       "      <td>0</td>\n",
       "      <td>0</td>\n",
       "      <td>0</td>\n",
       "      <td>0</td>\n",
       "      <td>...</td>\n",
       "      <td>0</td>\n",
       "      <td>1</td>\n",
       "      <td>1</td>\n",
       "      <td>1</td>\n",
       "      <td>0</td>\n",
       "      <td>36</td>\n",
       "      <td>2021</td>\n",
       "      <td>6</td>\n",
       "      <td>29</td>\n",
       "      <td>0</td>\n",
       "    </tr>\n",
       "    <tr>\n",
       "      <th>act2_3404049</th>\n",
       "      <td>ppl_100</td>\n",
       "      <td>act2_3404049</td>\n",
       "      <td>2</td>\n",
       "      <td>0</td>\n",
       "      <td>0</td>\n",
       "      <td>0</td>\n",
       "      <td>0</td>\n",
       "      <td>0</td>\n",
       "      <td>0</td>\n",
       "      <td>0</td>\n",
       "      <td>...</td>\n",
       "      <td>0</td>\n",
       "      <td>1</td>\n",
       "      <td>1</td>\n",
       "      <td>1</td>\n",
       "      <td>0</td>\n",
       "      <td>36</td>\n",
       "      <td>2021</td>\n",
       "      <td>6</td>\n",
       "      <td>29</td>\n",
       "      <td>0</td>\n",
       "    </tr>\n",
       "    <tr>\n",
       "      <th>act2_3651215</th>\n",
       "      <td>ppl_100</td>\n",
       "      <td>act2_3651215</td>\n",
       "      <td>2</td>\n",
       "      <td>0</td>\n",
       "      <td>0</td>\n",
       "      <td>0</td>\n",
       "      <td>0</td>\n",
       "      <td>0</td>\n",
       "      <td>0</td>\n",
       "      <td>0</td>\n",
       "      <td>...</td>\n",
       "      <td>0</td>\n",
       "      <td>1</td>\n",
       "      <td>1</td>\n",
       "      <td>1</td>\n",
       "      <td>0</td>\n",
       "      <td>36</td>\n",
       "      <td>2021</td>\n",
       "      <td>6</td>\n",
       "      <td>29</td>\n",
       "      <td>0</td>\n",
       "    </tr>\n",
       "    <tr>\n",
       "      <th>act2_4109017</th>\n",
       "      <td>ppl_100</td>\n",
       "      <td>act2_4109017</td>\n",
       "      <td>2</td>\n",
       "      <td>0</td>\n",
       "      <td>0</td>\n",
       "      <td>0</td>\n",
       "      <td>0</td>\n",
       "      <td>0</td>\n",
       "      <td>0</td>\n",
       "      <td>0</td>\n",
       "      <td>...</td>\n",
       "      <td>0</td>\n",
       "      <td>1</td>\n",
       "      <td>1</td>\n",
       "      <td>1</td>\n",
       "      <td>0</td>\n",
       "      <td>36</td>\n",
       "      <td>2021</td>\n",
       "      <td>6</td>\n",
       "      <td>29</td>\n",
       "      <td>0</td>\n",
       "    </tr>\n",
       "  </tbody>\n",
       "</table>\n",
       "<p>5 rows × 61 columns</p>\n",
       "</div>"
      ],
      "text/plain": [
       "             people_id   activity_id  activity_category  char_1  char_2  \\\n",
       "activity_id                                                               \n",
       "act2_1734928   ppl_100  act2_1734928                  4       0       0   \n",
       "act2_2434093   ppl_100  act2_2434093                  2       0       0   \n",
       "act2_3404049   ppl_100  act2_3404049                  2       0       0   \n",
       "act2_3651215   ppl_100  act2_3651215                  2       0       0   \n",
       "act2_4109017   ppl_100  act2_4109017                  2       0       0   \n",
       "\n",
       "              char_3  char_4  char_5  char_6  char_7     ...       p_char_33  \\\n",
       "activity_id                                              ...                   \n",
       "act2_1734928       0       0       0       0       0     ...               0   \n",
       "act2_2434093       0       0       0       0       0     ...               0   \n",
       "act2_3404049       0       0       0       0       0     ...               0   \n",
       "act2_3651215       0       0       0       0       0     ...               0   \n",
       "act2_4109017       0       0       0       0       0     ...               0   \n",
       "\n",
       "              p_char_34  p_char_35  p_char_36  p_char_37  p_char_38  p_year  \\\n",
       "activity_id                                                                   \n",
       "act2_1734928          1          1          1          0         36    2021   \n",
       "act2_2434093          1          1          1          0         36    2021   \n",
       "act2_3404049          1          1          1          0         36    2021   \n",
       "act2_3651215          1          1          1          0         36    2021   \n",
       "act2_4109017          1          1          1          0         36    2021   \n",
       "\n",
       "              p_month  p_day  p_isweekend  \n",
       "activity_id                                \n",
       "act2_1734928        6     29            0  \n",
       "act2_2434093        6     29            0  \n",
       "act2_3404049        6     29            0  \n",
       "act2_3651215        6     29            0  \n",
       "act2_4109017        6     29            0  \n",
       "\n",
       "[5 rows x 61 columns]"
      ]
     },
     "execution_count": 33,
     "metadata": {},
     "output_type": "execute_result"
    }
   ],
   "source": [
    "train.set_index(train.activity_id, inplace=True)\n",
    "test.set_index(test.activity_id, inplace=True)\n",
    "train.head()"
   ]
  },
  {
   "cell_type": "code",
   "execution_count": 34,
   "metadata": {
    "collapsed": false
   },
   "outputs": [
    {
     "data": {
      "text/html": [
       "<div>\n",
       "<table border=\"1\" class=\"dataframe\">\n",
       "  <thead>\n",
       "    <tr style=\"text-align: right;\">\n",
       "      <th></th>\n",
       "      <th>people_id</th>\n",
       "      <th>activity_id</th>\n",
       "      <th>activity_category</th>\n",
       "      <th>char_1</th>\n",
       "      <th>char_2</th>\n",
       "      <th>char_3</th>\n",
       "      <th>char_4</th>\n",
       "      <th>char_5</th>\n",
       "      <th>char_6</th>\n",
       "      <th>char_7</th>\n",
       "      <th>...</th>\n",
       "      <th>p_char_33</th>\n",
       "      <th>p_char_34</th>\n",
       "      <th>p_char_35</th>\n",
       "      <th>p_char_36</th>\n",
       "      <th>p_char_37</th>\n",
       "      <th>p_char_38</th>\n",
       "      <th>p_year</th>\n",
       "      <th>p_month</th>\n",
       "      <th>p_day</th>\n",
       "      <th>p_isweekend</th>\n",
       "    </tr>\n",
       "    <tr>\n",
       "      <th>activity_id</th>\n",
       "      <th></th>\n",
       "      <th></th>\n",
       "      <th></th>\n",
       "      <th></th>\n",
       "      <th></th>\n",
       "      <th></th>\n",
       "      <th></th>\n",
       "      <th></th>\n",
       "      <th></th>\n",
       "      <th></th>\n",
       "      <th></th>\n",
       "      <th></th>\n",
       "      <th></th>\n",
       "      <th></th>\n",
       "      <th></th>\n",
       "      <th></th>\n",
       "      <th></th>\n",
       "      <th></th>\n",
       "      <th></th>\n",
       "      <th></th>\n",
       "      <th></th>\n",
       "    </tr>\n",
       "  </thead>\n",
       "  <tbody>\n",
       "    <tr>\n",
       "      <th>act1_249281</th>\n",
       "      <td>ppl_100004</td>\n",
       "      <td>act1_249281</td>\n",
       "      <td>1</td>\n",
       "      <td>5</td>\n",
       "      <td>10</td>\n",
       "      <td>5</td>\n",
       "      <td>1</td>\n",
       "      <td>6</td>\n",
       "      <td>1</td>\n",
       "      <td>1</td>\n",
       "      <td>...</td>\n",
       "      <td>1</td>\n",
       "      <td>1</td>\n",
       "      <td>1</td>\n",
       "      <td>1</td>\n",
       "      <td>1</td>\n",
       "      <td>76</td>\n",
       "      <td>2022</td>\n",
       "      <td>7</td>\n",
       "      <td>20</td>\n",
       "      <td>0</td>\n",
       "    </tr>\n",
       "    <tr>\n",
       "      <th>act2_230855</th>\n",
       "      <td>ppl_100004</td>\n",
       "      <td>act2_230855</td>\n",
       "      <td>5</td>\n",
       "      <td>0</td>\n",
       "      <td>0</td>\n",
       "      <td>0</td>\n",
       "      <td>0</td>\n",
       "      <td>0</td>\n",
       "      <td>0</td>\n",
       "      <td>0</td>\n",
       "      <td>...</td>\n",
       "      <td>1</td>\n",
       "      <td>1</td>\n",
       "      <td>1</td>\n",
       "      <td>1</td>\n",
       "      <td>1</td>\n",
       "      <td>76</td>\n",
       "      <td>2022</td>\n",
       "      <td>7</td>\n",
       "      <td>20</td>\n",
       "      <td>0</td>\n",
       "    </tr>\n",
       "    <tr>\n",
       "      <th>act1_240724</th>\n",
       "      <td>ppl_10001</td>\n",
       "      <td>act1_240724</td>\n",
       "      <td>1</td>\n",
       "      <td>12</td>\n",
       "      <td>1</td>\n",
       "      <td>5</td>\n",
       "      <td>4</td>\n",
       "      <td>6</td>\n",
       "      <td>1</td>\n",
       "      <td>1</td>\n",
       "      <td>...</td>\n",
       "      <td>1</td>\n",
       "      <td>1</td>\n",
       "      <td>1</td>\n",
       "      <td>1</td>\n",
       "      <td>1</td>\n",
       "      <td>90</td>\n",
       "      <td>2022</td>\n",
       "      <td>10</td>\n",
       "      <td>14</td>\n",
       "      <td>0</td>\n",
       "    </tr>\n",
       "    <tr>\n",
       "      <th>act1_83552</th>\n",
       "      <td>ppl_10001</td>\n",
       "      <td>act1_83552</td>\n",
       "      <td>1</td>\n",
       "      <td>20</td>\n",
       "      <td>10</td>\n",
       "      <td>5</td>\n",
       "      <td>4</td>\n",
       "      <td>6</td>\n",
       "      <td>1</td>\n",
       "      <td>1</td>\n",
       "      <td>...</td>\n",
       "      <td>1</td>\n",
       "      <td>1</td>\n",
       "      <td>1</td>\n",
       "      <td>1</td>\n",
       "      <td>1</td>\n",
       "      <td>90</td>\n",
       "      <td>2022</td>\n",
       "      <td>10</td>\n",
       "      <td>14</td>\n",
       "      <td>0</td>\n",
       "    </tr>\n",
       "    <tr>\n",
       "      <th>act2_1043301</th>\n",
       "      <td>ppl_10001</td>\n",
       "      <td>act2_1043301</td>\n",
       "      <td>5</td>\n",
       "      <td>0</td>\n",
       "      <td>0</td>\n",
       "      <td>0</td>\n",
       "      <td>0</td>\n",
       "      <td>0</td>\n",
       "      <td>0</td>\n",
       "      <td>0</td>\n",
       "      <td>...</td>\n",
       "      <td>1</td>\n",
       "      <td>1</td>\n",
       "      <td>1</td>\n",
       "      <td>1</td>\n",
       "      <td>1</td>\n",
       "      <td>90</td>\n",
       "      <td>2022</td>\n",
       "      <td>10</td>\n",
       "      <td>14</td>\n",
       "      <td>0</td>\n",
       "    </tr>\n",
       "  </tbody>\n",
       "</table>\n",
       "<p>5 rows × 60 columns</p>\n",
       "</div>"
      ],
      "text/plain": [
       "               people_id   activity_id  activity_category  char_1  char_2  \\\n",
       "activity_id                                                                 \n",
       "act1_249281   ppl_100004   act1_249281                  1       5      10   \n",
       "act2_230855   ppl_100004   act2_230855                  5       0       0   \n",
       "act1_240724    ppl_10001   act1_240724                  1      12       1   \n",
       "act1_83552     ppl_10001    act1_83552                  1      20      10   \n",
       "act2_1043301   ppl_10001  act2_1043301                  5       0       0   \n",
       "\n",
       "              char_3  char_4  char_5  char_6  char_7     ...       p_char_33  \\\n",
       "activity_id                                              ...                   \n",
       "act1_249281        5       1       6       1       1     ...               1   \n",
       "act2_230855        0       0       0       0       0     ...               1   \n",
       "act1_240724        5       4       6       1       1     ...               1   \n",
       "act1_83552         5       4       6       1       1     ...               1   \n",
       "act2_1043301       0       0       0       0       0     ...               1   \n",
       "\n",
       "              p_char_34  p_char_35  p_char_36  p_char_37  p_char_38  p_year  \\\n",
       "activity_id                                                                   \n",
       "act1_249281           1          1          1          1         76    2022   \n",
       "act2_230855           1          1          1          1         76    2022   \n",
       "act1_240724           1          1          1          1         90    2022   \n",
       "act1_83552            1          1          1          1         90    2022   \n",
       "act2_1043301          1          1          1          1         90    2022   \n",
       "\n",
       "              p_month  p_day  p_isweekend  \n",
       "activity_id                                \n",
       "act1_249281         7     20            0  \n",
       "act2_230855         7     20            0  \n",
       "act1_240724        10     14            0  \n",
       "act1_83552         10     14            0  \n",
       "act2_1043301       10     14            0  \n",
       "\n",
       "[5 rows x 60 columns]"
      ]
     },
     "execution_count": 34,
     "metadata": {},
     "output_type": "execute_result"
    }
   ],
   "source": [
    "test.head()"
   ]
  },
  {
   "cell_type": "code",
   "execution_count": 35,
   "metadata": {
    "collapsed": false
   },
   "outputs": [
    {
     "data": {
      "text/plain": [
       "Index([u'people_id', u'activity_id', u'activity_category', u'char_1',\n",
       "       u'char_2', u'char_3', u'char_4', u'char_5', u'char_6', u'char_7',\n",
       "       u'char_8', u'char_9', u'char_10', u'outcome', u'year', u'month', u'day',\n",
       "       u'isweekend', u'p_char_1', u'p_group_1', u'p_char_2', u'p_char_3',\n",
       "       u'p_char_4', u'p_char_5', u'p_char_6', u'p_char_7', u'p_char_8',\n",
       "       u'p_char_9', u'p_char_10', u'p_char_11', u'p_char_12', u'p_char_13',\n",
       "       u'p_char_14', u'p_char_15', u'p_char_16', u'p_char_17', u'p_char_18',\n",
       "       u'p_char_19', u'p_char_20', u'p_char_21', u'p_char_22', u'p_char_23',\n",
       "       u'p_char_24', u'p_char_25', u'p_char_26', u'p_char_27', u'p_char_28',\n",
       "       u'p_char_29', u'p_char_30', u'p_char_31', u'p_char_32', u'p_char_33',\n",
       "       u'p_char_34', u'p_char_35', u'p_char_36', u'p_char_37', u'p_char_38',\n",
       "       u'p_year', u'p_month', u'p_day', u'p_isweekend'],\n",
       "      dtype='object')"
      ]
     },
     "execution_count": 35,
     "metadata": {},
     "output_type": "execute_result"
    }
   ],
   "source": [
    "train.columns"
   ]
  },
  {
   "cell_type": "code",
   "execution_count": 49,
   "metadata": {
    "collapsed": true
   },
   "outputs": [],
   "source": [
    "y = train['outcome']\n",
    "train.drop('outcome', axis=1, inplace=True)"
   ]
  },
  {
   "cell_type": "code",
   "execution_count": 50,
   "metadata": {
    "collapsed": true
   },
   "outputs": [],
   "source": [
    "col_drop = ['people_id','activity_id']\n",
    "train.drop(col_drop, axis=1, inplace=True)\n",
    "test.drop(col_drop, axis=1, inplace=True)"
   ]
  },
  {
   "cell_type": "code",
   "execution_count": 51,
   "metadata": {
    "collapsed": false
   },
   "outputs": [],
   "source": [
    "def reduce_dimen(dataset,column,toreplace):\n",
    "    for index,i in dataset[column].duplicated(keep=False).iteritems():\n",
    "        if i==False:\n",
    "            dataset.set_value(index,column,toreplace)\n",
    "    return dataset"
   ]
  },
  {
   "cell_type": "code",
   "execution_count": 54,
   "metadata": {
    "collapsed": true
   },
   "outputs": [],
   "source": [
    "categorical=['p_group_1','activity_category',\n",
    "             'p_char_1','p_char_2','p_char_3','p_char_4','p_char_5',\n",
    "             'p_char_6','p_char_7','p_char_8','p_char_9',\n",
    "             'char_2','char_3','char_4','char_5',\n",
    "             'char_6','char_7','char_8','char_9']"
   ]
  },
  {
   "cell_type": "code",
   "execution_count": 55,
   "metadata": {
    "collapsed": false
   },
   "outputs": [],
   "source": [
    "for category in categorical:\n",
    "    train=reduce_dimen(train,category,9999999)\n",
    "    test=reduce_dimen(test,category,9999999)"
   ]
  },
  {
   "cell_type": "code",
   "execution_count": 56,
   "metadata": {
    "collapsed": true
   },
   "outputs": [],
   "source": [
    "not_categorical=[]\n",
    "for category in train.columns:\n",
    "    if category not in categorical:\n",
    "        not_categorical.append(category)"
   ]
  },
  {
   "cell_type": "code",
   "execution_count": 57,
   "metadata": {
    "collapsed": false
   },
   "outputs": [],
   "source": [
    "enc = OneHotEncoder(handle_unknown='ignore')\n",
    "enc=enc.fit(pd.concat([train[categorical],test[categorical]]))\n",
    "X_cat_sparse=enc.transform(train[categorical])\n",
    "X_test_cat_sparse=enc.transform(test[categorical])"
   ]
  },
  {
   "cell_type": "code",
   "execution_count": 58,
   "metadata": {
    "collapsed": true
   },
   "outputs": [],
   "source": [
    "from scipy.sparse import hstack\n",
    "X_sparse=hstack((train[not_categorical], X_cat_sparse))\n",
    "X_test_sparse=hstack((test[not_categorical], X_test_cat_sparse))"
   ]
  },
  {
   "cell_type": "code",
   "execution_count": 59,
   "metadata": {
    "collapsed": false
   },
   "outputs": [
    {
     "name": "stdout",
     "output_type": "stream",
     "text": [
      "Training data: (2197291, 31143)\n",
      "Test data: (498687, 31143)\n"
     ]
    }
   ],
   "source": [
    "print(\"Training data: \" + format(X_sparse.shape))\n",
    "print(\"Test data: \" + format(X_test_sparse.shape))"
   ]
  },
  {
   "cell_type": "code",
   "execution_count": 63,
   "metadata": {
    "collapsed": true
   },
   "outputs": [],
   "source": [
    "with open('./data/train_features_V1.pickle', 'wb') as f:\n",
    "    pickle.dump(X_sparse, f, pickle.HIGHEST_PROTOCOL)"
   ]
  },
  {
   "cell_type": "code",
   "execution_count": 64,
   "metadata": {
    "collapsed": true
   },
   "outputs": [],
   "source": [
    "with open('./data/test_features_V1.pickle', 'wb') as f:\n",
    "    pickle.dump(X_test_sparse, f, pickle.HIGHEST_PROTOCOL)"
   ]
  },
  {
   "cell_type": "code",
   "execution_count": 76,
   "metadata": {
    "collapsed": false
   },
   "outputs": [],
   "source": [
    "import xgboost as xgb\n",
    "from sklearn.cross_validation import StratifiedKFold\n",
    "from sklearn.metrics import roc_auc_score"
   ]
  },
  {
   "cell_type": "code",
   "execution_count": 77,
   "metadata": {
    "collapsed": false
   },
   "outputs": [
    {
     "name": "stdout",
     "output_type": "stream",
     "text": [
      "###########\n",
      "One Hot enconded Test Dataset Script\n"
     ]
    },
    {
     "name": "stderr",
     "output_type": "stream",
     "text": [
      "Will train until train error hasn't decreased in 10 rounds.\n",
      "[0]\ttrain-auc:0.888529\n",
      "[1]\ttrain-auc:0.896294\n",
      "[2]\ttrain-auc:0.904255\n",
      "[3]\ttrain-auc:0.912477\n",
      "[4]\ttrain-auc:0.920575\n",
      "[5]\ttrain-auc:0.928336\n",
      "[6]\ttrain-auc:0.935543\n",
      "[7]\ttrain-auc:0.942203\n",
      "[8]\ttrain-auc:0.948381\n",
      "[9]\ttrain-auc:0.954105\n",
      "[10]\ttrain-auc:0.959363\n",
      "[11]\ttrain-auc:0.964128\n",
      "[12]\ttrain-auc:0.968363\n",
      "[13]\ttrain-auc:0.972072\n",
      "[14]\ttrain-auc:0.975275\n",
      "[15]\ttrain-auc:0.978011\n",
      "[16]\ttrain-auc:0.980335\n",
      "[17]\ttrain-auc:0.982297\n",
      "[18]\ttrain-auc:0.983947\n",
      "[19]\ttrain-auc:0.985332\n",
      "[20]\ttrain-auc:0.986496\n",
      "[21]\ttrain-auc:0.987481\n",
      "[22]\ttrain-auc:0.988317\n",
      "[23]\ttrain-auc:0.989035\n",
      "[24]\ttrain-auc:0.989658\n",
      "[25]\ttrain-auc:0.990206\n",
      "[26]\ttrain-auc:0.990692\n",
      "[27]\ttrain-auc:0.991127\n",
      "[28]\ttrain-auc:0.991519\n",
      "[29]\ttrain-auc:0.991874\n",
      "[30]\ttrain-auc:0.992198\n",
      "[31]\ttrain-auc:0.992495\n",
      "[32]\ttrain-auc:0.992767\n",
      "[33]\ttrain-auc:0.993017\n",
      "[34]\ttrain-auc:0.993249\n",
      "[35]\ttrain-auc:0.993462\n",
      "[36]\ttrain-auc:0.993660\n",
      "[37]\ttrain-auc:0.993844\n",
      "[38]\ttrain-auc:0.994016\n",
      "[39]\ttrain-auc:0.994176\n",
      "[40]\ttrain-auc:0.994326\n",
      "[41]\ttrain-auc:0.994466\n",
      "[42]\ttrain-auc:0.994597\n",
      "[43]\ttrain-auc:0.994721\n",
      "[44]\ttrain-auc:0.994838\n",
      "[45]\ttrain-auc:0.994949\n",
      "[46]\ttrain-auc:0.995053\n",
      "[47]\ttrain-auc:0.995151\n",
      "[48]\ttrain-auc:0.995244\n",
      "[49]\ttrain-auc:0.995332\n",
      "[50]\ttrain-auc:0.995415\n",
      "[51]\ttrain-auc:0.995494\n",
      "[52]\ttrain-auc:0.995569\n",
      "[53]\ttrain-auc:0.995640\n",
      "[54]\ttrain-auc:0.995707\n",
      "[55]\ttrain-auc:0.995772\n",
      "[56]\ttrain-auc:0.995833\n",
      "[57]\ttrain-auc:0.995891\n",
      "[58]\ttrain-auc:0.995946\n",
      "[59]\ttrain-auc:0.995999\n",
      "[60]\ttrain-auc:0.996049\n",
      "[61]\ttrain-auc:0.996097\n",
      "[62]\ttrain-auc:0.996143\n",
      "[63]\ttrain-auc:0.996187\n",
      "[64]\ttrain-auc:0.996229\n",
      "[65]\ttrain-auc:0.996269\n",
      "[66]\ttrain-auc:0.996308\n",
      "[67]\ttrain-auc:0.996344\n",
      "[68]\ttrain-auc:0.996380\n",
      "[69]\ttrain-auc:0.996413\n",
      "[70]\ttrain-auc:0.996445\n",
      "[71]\ttrain-auc:0.996476\n",
      "[72]\ttrain-auc:0.996505\n",
      "[73]\ttrain-auc:0.996534\n",
      "[74]\ttrain-auc:0.996561\n",
      "[75]\ttrain-auc:0.996587\n",
      "[76]\ttrain-auc:0.996612\n",
      "[77]\ttrain-auc:0.996636\n",
      "[78]\ttrain-auc:0.996659\n",
      "[79]\ttrain-auc:0.996680\n",
      "[80]\ttrain-auc:0.996702\n",
      "[81]\ttrain-auc:0.996722\n",
      "[82]\ttrain-auc:0.996741\n",
      "[83]\ttrain-auc:0.996760\n",
      "[84]\ttrain-auc:0.996778\n",
      "[85]\ttrain-auc:0.996795\n",
      "[86]\ttrain-auc:0.996811\n",
      "[87]\ttrain-auc:0.996827\n",
      "[88]\ttrain-auc:0.996841\n",
      "[89]\ttrain-auc:0.996856\n",
      "[90]\ttrain-auc:0.996869\n",
      "[91]\ttrain-auc:0.996882\n",
      "[92]\ttrain-auc:0.996895\n",
      "[93]\ttrain-auc:0.996907\n",
      "[94]\ttrain-auc:0.996918\n",
      "[95]\ttrain-auc:0.996929\n",
      "[96]\ttrain-auc:0.996940\n",
      "[97]\ttrain-auc:0.996950\n",
      "[98]\ttrain-auc:0.996960\n",
      "[99]\ttrain-auc:0.996969\n",
      "[100]\ttrain-auc:0.996978\n",
      "[101]\ttrain-auc:0.996986\n",
      "[102]\ttrain-auc:0.996995\n",
      "[103]\ttrain-auc:0.997002\n",
      "[104]\ttrain-auc:0.997010\n",
      "[105]\ttrain-auc:0.997017\n",
      "[106]\ttrain-auc:0.997024\n",
      "[107]\ttrain-auc:0.997031\n",
      "[108]\ttrain-auc:0.997037\n",
      "[109]\ttrain-auc:0.997044\n",
      "[110]\ttrain-auc:0.997050\n",
      "[111]\ttrain-auc:0.997056\n",
      "[112]\ttrain-auc:0.997061\n",
      "[113]\ttrain-auc:0.997067\n",
      "[114]\ttrain-auc:0.997072\n",
      "[115]\ttrain-auc:0.997077\n",
      "[116]\ttrain-auc:0.997082\n",
      "[117]\ttrain-auc:0.997087\n",
      "[118]\ttrain-auc:0.997091\n",
      "[119]\ttrain-auc:0.997095\n",
      "[120]\ttrain-auc:0.997100\n",
      "[121]\ttrain-auc:0.997104\n",
      "[122]\ttrain-auc:0.997108\n",
      "[123]\ttrain-auc:0.997112\n",
      "[124]\ttrain-auc:0.997115\n",
      "[125]\ttrain-auc:0.997119\n",
      "[126]\ttrain-auc:0.997122\n",
      "[127]\ttrain-auc:0.997126\n",
      "[128]\ttrain-auc:0.997129\n",
      "[129]\ttrain-auc:0.997132\n",
      "[130]\ttrain-auc:0.997135\n",
      "[131]\ttrain-auc:0.997138\n",
      "[132]\ttrain-auc:0.997141\n",
      "[133]\ttrain-auc:0.997144\n",
      "[134]\ttrain-auc:0.997146\n",
      "[135]\ttrain-auc:0.997149\n",
      "[136]\ttrain-auc:0.997151\n",
      "[137]\ttrain-auc:0.997154\n",
      "[138]\ttrain-auc:0.997156\n",
      "[139]\ttrain-auc:0.997159\n",
      "[140]\ttrain-auc:0.997161\n",
      "[141]\ttrain-auc:0.997163\n",
      "[142]\ttrain-auc:0.997165\n",
      "[143]\ttrain-auc:0.997167\n",
      "[144]\ttrain-auc:0.997169\n",
      "[145]\ttrain-auc:0.997171\n",
      "[146]\ttrain-auc:0.997173\n",
      "[147]\ttrain-auc:0.997175\n",
      "[148]\ttrain-auc:0.997176\n",
      "[149]\ttrain-auc:0.997178\n",
      "[150]\ttrain-auc:0.997180\n",
      "[151]\ttrain-auc:0.997181\n",
      "[152]\ttrain-auc:0.997183\n",
      "[153]\ttrain-auc:0.997184\n",
      "[154]\ttrain-auc:0.997186\n",
      "[155]\ttrain-auc:0.997187\n",
      "[156]\ttrain-auc:0.997189\n",
      "[157]\ttrain-auc:0.997190\n",
      "[158]\ttrain-auc:0.997191\n",
      "[159]\ttrain-auc:0.997192\n",
      "[160]\ttrain-auc:0.997194\n",
      "[161]\ttrain-auc:0.997195\n",
      "[162]\ttrain-auc:0.997196\n",
      "[163]\ttrain-auc:0.997197\n",
      "[164]\ttrain-auc:0.997198\n",
      "[165]\ttrain-auc:0.997199\n",
      "[166]\ttrain-auc:0.997200\n",
      "[167]\ttrain-auc:0.997201\n",
      "[168]\ttrain-auc:0.997202\n",
      "[169]\ttrain-auc:0.997203\n",
      "[170]\ttrain-auc:0.997204\n",
      "[171]\ttrain-auc:0.997205\n",
      "[172]\ttrain-auc:0.997206\n",
      "[173]\ttrain-auc:0.997207\n",
      "[174]\ttrain-auc:0.997207\n",
      "[175]\ttrain-auc:0.997208\n",
      "[176]\ttrain-auc:0.997209\n",
      "[177]\ttrain-auc:0.997210\n",
      "[178]\ttrain-auc:0.997210\n",
      "[179]\ttrain-auc:0.997211\n",
      "[180]\ttrain-auc:0.997212\n",
      "[181]\ttrain-auc:0.997212\n",
      "[182]\ttrain-auc:0.997213\n",
      "[183]\ttrain-auc:0.997213\n",
      "[184]\ttrain-auc:0.997214\n",
      "[185]\ttrain-auc:0.997215\n",
      "[186]\ttrain-auc:0.997215\n",
      "[187]\ttrain-auc:0.997216\n",
      "[188]\ttrain-auc:0.997216\n",
      "[189]\ttrain-auc:0.997217\n",
      "[190]\ttrain-auc:0.997217\n",
      "[191]\ttrain-auc:0.997218\n",
      "[192]\ttrain-auc:0.997218\n",
      "[193]\ttrain-auc:0.997219\n",
      "[194]\ttrain-auc:0.997219\n",
      "[195]\ttrain-auc:0.997220\n",
      "[196]\ttrain-auc:0.997220\n",
      "[197]\ttrain-auc:0.997220\n",
      "[198]\ttrain-auc:0.997221\n",
      "[199]\ttrain-auc:0.997221\n",
      "[200]\ttrain-auc:0.997222\n",
      "[201]\ttrain-auc:0.997222\n",
      "[202]\ttrain-auc:0.997222\n",
      "[203]\ttrain-auc:0.997223\n",
      "[204]\ttrain-auc:0.997223\n",
      "[205]\ttrain-auc:0.997223\n",
      "[206]\ttrain-auc:0.997224\n",
      "[207]\ttrain-auc:0.997224\n",
      "[208]\ttrain-auc:0.997225\n",
      "[209]\ttrain-auc:0.997225\n",
      "[210]\ttrain-auc:0.997225\n",
      "[211]\ttrain-auc:0.997225\n",
      "[212]\ttrain-auc:0.997226\n",
      "[213]\ttrain-auc:0.997226\n",
      "[214]\ttrain-auc:0.997226\n",
      "[215]\ttrain-auc:0.997227\n",
      "[216]\ttrain-auc:0.997227\n",
      "[217]\ttrain-auc:0.997227\n",
      "[218]\ttrain-auc:0.997227\n",
      "[219]\ttrain-auc:0.997228\n",
      "[220]\ttrain-auc:0.997228\n",
      "[221]\ttrain-auc:0.997228\n",
      "[222]\ttrain-auc:0.997229\n",
      "[223]\ttrain-auc:0.997229\n",
      "[224]\ttrain-auc:0.997229\n",
      "[225]\ttrain-auc:0.997229\n",
      "[226]\ttrain-auc:0.997229\n",
      "[227]\ttrain-auc:0.997230\n",
      "[228]\ttrain-auc:0.997230\n",
      "[229]\ttrain-auc:0.997230\n",
      "[230]\ttrain-auc:0.997230\n",
      "[231]\ttrain-auc:0.997231\n",
      "[232]\ttrain-auc:0.997231\n",
      "[233]\ttrain-auc:0.997231\n",
      "[234]\ttrain-auc:0.997231\n",
      "[235]\ttrain-auc:0.997231\n",
      "[236]\ttrain-auc:0.997232\n",
      "[237]\ttrain-auc:0.997232\n",
      "[238]\ttrain-auc:0.997232\n",
      "[239]\ttrain-auc:0.997232\n",
      "[240]\ttrain-auc:0.997232\n",
      "[241]\ttrain-auc:0.997232\n",
      "[242]\ttrain-auc:0.997233\n",
      "[243]\ttrain-auc:0.997233\n",
      "[244]\ttrain-auc:0.997233\n",
      "[245]\ttrain-auc:0.997233\n",
      "[246]\ttrain-auc:0.997233\n",
      "[247]\ttrain-auc:0.997234\n",
      "[248]\ttrain-auc:0.997234\n",
      "[249]\ttrain-auc:0.997234\n",
      "[250]\ttrain-auc:0.997234\n",
      "[251]\ttrain-auc:0.997234\n",
      "[252]\ttrain-auc:0.997235\n",
      "[253]\ttrain-auc:0.997235\n",
      "[254]\ttrain-auc:0.997235\n",
      "[255]\ttrain-auc:0.997235\n",
      "[256]\ttrain-auc:0.997235\n",
      "[257]\ttrain-auc:0.997235\n",
      "[258]\ttrain-auc:0.997236\n",
      "[259]\ttrain-auc:0.997236\n",
      "[260]\ttrain-auc:0.997236\n",
      "[261]\ttrain-auc:0.997236\n",
      "[262]\ttrain-auc:0.997236\n",
      "[263]\ttrain-auc:0.997236\n",
      "[264]\ttrain-auc:0.997236\n",
      "[265]\ttrain-auc:0.997237\n",
      "[266]\ttrain-auc:0.997237\n",
      "[267]\ttrain-auc:0.997237\n",
      "[268]\ttrain-auc:0.997237\n",
      "[269]\ttrain-auc:0.997237\n",
      "[270]\ttrain-auc:0.997237\n",
      "[271]\ttrain-auc:0.997238\n",
      "[272]\ttrain-auc:0.997238\n",
      "[273]\ttrain-auc:0.997238\n",
      "[274]\ttrain-auc:0.997238\n",
      "[275]\ttrain-auc:0.997238\n",
      "[276]\ttrain-auc:0.997238\n",
      "[277]\ttrain-auc:0.997238\n",
      "[278]\ttrain-auc:0.997239\n",
      "[279]\ttrain-auc:0.997239\n",
      "[280]\ttrain-auc:0.997239\n",
      "[281]\ttrain-auc:0.997239\n",
      "[282]\ttrain-auc:0.997239\n",
      "[283]\ttrain-auc:0.997239\n",
      "[284]\ttrain-auc:0.997239\n",
      "[285]\ttrain-auc:0.997240\n",
      "[286]\ttrain-auc:0.997240\n",
      "[287]\ttrain-auc:0.997240\n",
      "[288]\ttrain-auc:0.997240\n",
      "[289]\ttrain-auc:0.997240\n",
      "[290]\ttrain-auc:0.997240\n",
      "[291]\ttrain-auc:0.997240\n",
      "[292]\ttrain-auc:0.997240\n",
      "[293]\ttrain-auc:0.997241\n",
      "[294]\ttrain-auc:0.997241\n",
      "[295]\ttrain-auc:0.997241\n",
      "[296]\ttrain-auc:0.997241\n",
      "[297]\ttrain-auc:0.997241\n",
      "[298]\ttrain-auc:0.997241\n",
      "[299]\ttrain-auc:0.997241\n"
     ]
    }
   ],
   "source": [
    "print(\"###########\")\n",
    "print(\"One Hot enconded Test Dataset Script\")\n",
    "\n",
    "dtrain = xgb.DMatrix(X_sparse,label=y)\n",
    "dtest = xgb.DMatrix(X_test_sparse)\n",
    "\n",
    "param = {'max_depth':10, 'eta':0.02, 'silent':1, 'objective':'binary:logistic' }\n",
    "param['nthread'] = 4\n",
    "param['eval_metric'] = 'auc'\n",
    "param['subsample'] = 0.7\n",
    "param['colsample_bytree']= 0.7\n",
    "param['min_child_weight'] = 0\n",
    "param['booster'] = \"gblinear\"\n",
    "\n",
    "watchlist  = [(dtrain,'train')]\n",
    "num_round = 300\n",
    "early_stopping_rounds=10\n",
    "bst = xgb.train(param, dtrain, num_round, watchlist,early_stopping_rounds=early_stopping_rounds)\n",
    "\n",
    "ypred = bst.predict(dtest)"
   ]
  },
  {
   "cell_type": "code",
   "execution_count": 79,
   "metadata": {
    "collapsed": false
   },
   "outputs": [
    {
     "data": {
      "text/plain": [
       "array([ 0.00134509,  0.00156169,  0.99946839,  0.99960226,  0.99945778,\n",
       "        0.99945563,  0.99945778,  0.99945778,  0.99945778,  0.99946219], dtype=float32)"
      ]
     },
     "execution_count": 79,
     "metadata": {},
     "output_type": "execute_result"
    }
   ],
   "source": [
    "ypred[0:10]"
   ]
  },
  {
   "cell_type": "code",
   "execution_count": 66,
   "metadata": {
    "collapsed": true
   },
   "outputs": [],
   "source": [
    "from ml_toolbox.kaggle import KaggleResult"
   ]
  },
  {
   "cell_type": "code",
   "execution_count": 67,
   "metadata": {
    "collapsed": true
   },
   "outputs": [],
   "source": [
    "# Load predictions based on data leak\n",
    "not_leak_value = 0.123456\n",
    "y_pred_leak = pd.read_csv('leak_abuse_V1.csv')"
   ]
  },
  {
   "cell_type": "code",
   "execution_count": 68,
   "metadata": {
    "collapsed": false
   },
   "outputs": [
    {
     "data": {
      "text/plain": [
       "(498687, 2)"
      ]
     },
     "execution_count": 68,
     "metadata": {},
     "output_type": "execute_result"
    }
   ],
   "source": [
    "y_pred_leak.shape"
   ]
  },
  {
   "cell_type": "code",
   "execution_count": 69,
   "metadata": {
    "collapsed": false
   },
   "outputs": [
    {
     "data": {
      "text/plain": [
       "(69073,)"
      ]
     },
     "execution_count": 69,
     "metadata": {},
     "output_type": "execute_result"
    }
   ],
   "source": [
    "y_pred_leak[y_pred_leak.outcome==not_leak_value].outcome.shape"
   ]
  },
  {
   "cell_type": "code",
   "execution_count": 70,
   "metadata": {
    "collapsed": false
   },
   "outputs": [
    {
     "ename": "NameError",
     "evalue": "name 'ypred' is not defined",
     "output_type": "error",
     "traceback": [
      "\u001b[0;31m---------------------------------------------------------------------------\u001b[0m",
      "\u001b[0;31mNameError\u001b[0m                                 Traceback (most recent call last)",
      "\u001b[0;32m<ipython-input-70-3c133c83aa14>\u001b[0m in \u001b[0;36m<module>\u001b[0;34m()\u001b[0m\n\u001b[0;32m----> 1\u001b[0;31m \u001b[0mypred\u001b[0m\u001b[0;34m[\u001b[0m\u001b[0my_pred_leak\u001b[0m\u001b[0;34m[\u001b[0m\u001b[0my_pred_leak\u001b[0m\u001b[0;34m.\u001b[0m\u001b[0moutcome\u001b[0m\u001b[0;34m==\u001b[0m\u001b[0mnot_leak_value\u001b[0m\u001b[0;34m]\u001b[0m\u001b[0;34m.\u001b[0m\u001b[0moutcome\u001b[0m\u001b[0;34m.\u001b[0m\u001b[0mindex\u001b[0m\u001b[0;34m]\u001b[0m\u001b[0;34m.\u001b[0m\u001b[0mshape\u001b[0m\u001b[0;34m\u001b[0m\u001b[0m\n\u001b[0m",
      "\u001b[0;31mNameError\u001b[0m: name 'ypred' is not defined"
     ]
    }
   ],
   "source": [
    "ypred[y_pred_leak[y_pred_leak.outcome==not_leak_value].outcome.index].shape"
   ]
  },
  {
   "cell_type": "code",
   "execution_count": 34,
   "metadata": {
    "collapsed": false
   },
   "outputs": [
    {
     "name": "stderr",
     "output_type": "stream",
     "text": [
      "/Users/joostbloom/anaconda/lib/python2.7/site-packages/pandas/core/generic.py:2698: SettingWithCopyWarning: \n",
      "A value is trying to be set on a copy of a slice from a DataFrame.\n",
      "Try using .loc[row_indexer,col_indexer] = value instead\n",
      "\n",
      "See the caveats in the documentation: http://pandas.pydata.org/pandas-docs/stable/indexing.html#indexing-view-versus-copy\n",
      "  self[name] = value\n"
     ]
    }
   ],
   "source": [
    "y_pred_leak[y_pred_leak.outcome==not_leak_value].outcome = ypred[y_pred_leak[y_pred_leak.outcome==not_leak_value].outcome.index]"
   ]
  },
  {
   "cell_type": "code",
   "execution_count": 65,
   "metadata": {
    "collapsed": false
   },
   "outputs": [
    {
     "ename": "NameError",
     "evalue": "name 'KaggleResult' is not defined",
     "output_type": "error",
     "traceback": [
      "\u001b[0;31m---------------------------------------------------------------------------\u001b[0m",
      "\u001b[0;31mNameError\u001b[0m                                 Traceback (most recent call last)",
      "\u001b[0;32m<ipython-input-65-2b0f3a4a7fb1>\u001b[0m in \u001b[0;36m<module>\u001b[0;34m()\u001b[0m\n\u001b[0;32m----> 1\u001b[0;31m \u001b[0mkag\u001b[0m \u001b[0;34m=\u001b[0m \u001b[0mKaggleResult\u001b[0m\u001b[0;34m(\u001b[0m\u001b[0my_pred_leak\u001b[0m\u001b[0;34m,\u001b[0m \u001b[0mtest\u001b[0m\u001b[0;34m.\u001b[0m\u001b[0mindex\u001b[0m\u001b[0;34m.\u001b[0m\u001b[0mvalues\u001b[0m\u001b[0;34m,\u001b[0m \u001b[0;36m0.997242\u001b[0m\u001b[0;34m,\u001b[0m \u001b[0;34m'test2'\u001b[0m\u001b[0;34m,\u001b[0m \u001b[0;34m'test2'\u001b[0m\u001b[0;34m)\u001b[0m\u001b[0;34m\u001b[0m\u001b[0m\n\u001b[0m",
      "\u001b[0;31mNameError\u001b[0m: name 'KaggleResult' is not defined"
     ]
    }
   ],
   "source": [
    "kag = KaggleResult(y_pred_leak, test.index.values, 0.997242, 'test2', 'test2')"
   ]
  },
  {
   "cell_type": "code",
   "execution_count": 63,
   "metadata": {
    "collapsed": false
   },
   "outputs": [
    {
     "name": "stdout",
     "output_type": "stream",
     "text": [
      "(True, 'all_ok')\n"
     ]
    }
   ],
   "source": [
    "print kag.validate()"
   ]
  },
  {
   "cell_type": "code",
   "execution_count": 64,
   "metadata": {
    "collapsed": false
   },
   "outputs": [
    {
     "data": {
      "text/plain": [
       "0.978699"
      ]
     },
     "execution_count": 64,
     "metadata": {},
     "output_type": "execute_result"
    }
   ],
   "source": [
    "kag.upload()"
   ]
  },
  {
   "cell_type": "code",
   "execution_count": null,
   "metadata": {
    "collapsed": true
   },
   "outputs": [],
   "source": []
  }
 ],
 "metadata": {
  "kernelspec": {
   "display_name": "Python 2",
   "language": "python",
   "name": "python2"
  },
  "language_info": {
   "codemirror_mode": {
    "name": "ipython",
    "version": 2
   },
   "file_extension": ".py",
   "mimetype": "text/x-python",
   "name": "python",
   "nbconvert_exporter": "python",
   "pygments_lexer": "ipython2",
   "version": "2.7.11"
  }
 },
 "nbformat": 4,
 "nbformat_minor": 0
}
