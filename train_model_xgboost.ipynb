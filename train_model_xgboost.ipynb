{
 "cells": [
  {
   "cell_type": "code",
   "execution_count": 39,
   "metadata": {
    "collapsed": false
   },
   "outputs": [],
   "source": [
    "import pickle\n",
    "\n",
    "\n",
    "import pandas as pd\n",
    "import numpy as np\n",
    "import seaborn as sns\n",
    "import matplotlib.pyplot as plt\n",
    "from sklearn.preprocessing import OneHotEncoder\n",
    "%matplotlib inline\n",
    "\n",
    "import xgboost as xgb\n",
    "from sklearn.cross_validation import StratifiedKFold\n",
    "from sklearn.metrics import roc_auc_score\n",
    "\n",
    "from ml_toolbox.kaggle import KaggleResult\n",
    "from shared_functions_redhat import load_test_train, load_leaked_predictions_as_validation_set, merge_prediction_with_leak_data"
   ]
  },
  {
   "cell_type": "code",
   "execution_count": 3,
   "metadata": {
    "collapsed": true
   },
   "outputs": [],
   "source": [
    "dir_out = 'model_xgboost_v1'"
   ]
  },
  {
   "cell_type": "code",
   "execution_count": 4,
   "metadata": {
    "collapsed": true
   },
   "outputs": [],
   "source": [
    "feature_files = ['numerical', 'bool', 'dates', 'activity_category','p_group_1',\n",
    "                 'char_1','char_2','char_3','char_4', 'char_5', 'char_6', 'char_7', 'char_8', 'char_9',\n",
    "                 'p_char_2','p_char_3','p_char_4', 'p_char_5', 'p_char_6', 'p_char_7', 'p_char_8', 'p_char_9']\n",
    "\n",
    "feat_filter = {'numerical': ['p_char_38', 'unique_act_cat_group'],\n",
    "               'dates': ['months_since_pdate', 'months_since_first_activity_group', \n",
    "                         'months_since_first_activity_people_id', 'range_date_group'],\n",
    "               'bool':['p_char_10', 'p_char_11', 'p_char_12', 'p_char_13', 'p_char_14',\n",
    "                       'p_char_15', 'p_char_16', 'p_char_17', 'p_char_18', 'p_char_19', 'p_char_20',\n",
    "                       'p_char_21', 'p_char_22', 'p_char_23', 'p_char_24', 'p_char_25', 'p_char_26',\n",
    "                       'p_char_27', 'p_char_28', 'p_char_29', 'p_char_30', 'p_char_31', 'p_char_32',\n",
    "                       'p_char_33', 'p_char_34', 'p_char_35', 'p_char_36', 'p_char_37',]}"
   ]
  },
  {
   "cell_type": "code",
   "execution_count": 6,
   "metadata": {
    "collapsed": true
   },
   "outputs": [],
   "source": [
    "cv_set_kfold = './data_ori/cv_StratifiedKFold_V4.pickle'"
   ]
  },
  {
   "cell_type": "code",
   "execution_count": null,
   "metadata": {
    "collapsed": true
   },
   "outputs": [],
   "source": []
  },
  {
   "cell_type": "markdown",
   "metadata": {},
   "source": [
    "### Load data"
   ]
  },
  {
   "cell_type": "code",
   "execution_count": 5,
   "metadata": {
    "collapsed": false
   },
   "outputs": [
    {
     "name": "stdout",
     "output_type": "stream",
     "text": [
      "Loaded ['p_char_38' 'unique_act_cat_group'] from numerical.\n",
      "Loaded ['p_char_10' 'p_char_11' 'p_char_12' 'p_char_13' 'p_char_14' 'p_char_15'\n",
      " 'p_char_16' 'p_char_17' 'p_char_18' 'p_char_19' 'p_char_20' 'p_char_21'\n",
      " 'p_char_22' 'p_char_23' 'p_char_24' 'p_char_25' 'p_char_26' 'p_char_27'\n",
      " 'p_char_28' 'p_char_29' 'p_char_30' 'p_char_31' 'p_char_32' 'p_char_33'\n",
      " 'p_char_34' 'p_char_35' 'p_char_36' 'p_char_37'] from bool.\n",
      "Loaded ['months_since_pdate' 'months_since_first_activity_group'\n",
      " 'months_since_first_activity_people_id' 'range_date_group'] from dates.\n",
      "Loaded activity_category.\n",
      "Loaded p_group_1.\n",
      "Loaded char_1.\n",
      "Loaded char_2.\n",
      "Loaded char_3.\n",
      "Loaded char_4.\n",
      "Loaded char_5.\n",
      "Loaded char_6.\n",
      "Loaded char_7.\n",
      "Loaded char_8.\n",
      "Loaded char_9.\n",
      "Loaded p_char_2.\n",
      "Loaded p_char_3.\n",
      "Loaded p_char_4.\n",
      "Loaded p_char_5.\n",
      "Loaded p_char_6.\n",
      "Loaded p_char_7.\n",
      "Loaded p_char_8.\n",
      "Loaded p_char_9.\n",
      "Loaded ['p_char_38' 'unique_act_cat_group'] from numerical.\n",
      "Loaded ['p_char_10' 'p_char_11' 'p_char_12' 'p_char_13' 'p_char_14' 'p_char_15'\n",
      " 'p_char_16' 'p_char_17' 'p_char_18' 'p_char_19' 'p_char_20' 'p_char_21'\n",
      " 'p_char_22' 'p_char_23' 'p_char_24' 'p_char_25' 'p_char_26' 'p_char_27'\n",
      " 'p_char_28' 'p_char_29' 'p_char_30' 'p_char_31' 'p_char_32' 'p_char_33'\n",
      " 'p_char_34' 'p_char_35' 'p_char_36' 'p_char_37'] from bool.\n",
      "Loaded ['months_since_pdate' 'months_since_first_activity_group'\n",
      " 'months_since_first_activity_people_id' 'range_date_group'] from dates.\n",
      "Loaded activity_category.\n",
      "Loaded p_group_1.\n",
      "Loaded char_1.\n",
      "Loaded char_2.\n",
      "Loaded char_3.\n",
      "Loaded char_4.\n",
      "Loaded char_5.\n",
      "Loaded char_6.\n",
      "Loaded char_7.\n",
      "Loaded char_8.\n",
      "Loaded char_9.\n",
      "Loaded p_char_2.\n",
      "Loaded p_char_3.\n",
      "Loaded p_char_4.\n",
      "Loaded p_char_5.\n",
      "Loaded p_char_6.\n",
      "Loaded p_char_7.\n",
      "Loaded p_char_8.\n",
      "Loaded p_char_9.\n"
     ]
    }
   ],
   "source": [
    "Xtrain, Xtest = load_test_train(feature_files, feat_filter)"
   ]
  },
  {
   "cell_type": "code",
   "execution_count": 19,
   "metadata": {
    "collapsed": false
   },
   "outputs": [
    {
     "name": "stdout",
     "output_type": "stream",
     "text": [
      "Loading samples from ./data_ori/cv_test_V3.csv\n"
     ]
    }
   ],
   "source": [
    "Xval, yval = load_leaked_predictions_as_validation_set(Xtest)"
   ]
  },
  {
   "cell_type": "code",
   "execution_count": 20,
   "metadata": {
    "collapsed": false
   },
   "outputs": [
    {
     "name": "stdout",
     "output_type": "stream",
     "text": [
      "Xtrain shape: (2197291, 14145)\n",
      "Xtest shape: (498687, 14145)\n",
      "Xval shape: (384061, 14145)\n"
     ]
    }
   ],
   "source": [
    "print('Xtrain shape: {}'.format(Xtrain.shape))\n",
    "print('Xtest shape: {}'.format(Xtest.shape))\n",
    "print('Xval shape: {}'.format(Xval.shape))"
   ]
  },
  {
   "cell_type": "code",
   "execution_count": 7,
   "metadata": {
    "collapsed": false
   },
   "outputs": [
    {
     "name": "stdout",
     "output_type": "stream",
     "text": [
      "1980\n"
     ]
    }
   ],
   "source": [
    "# Load kfold set\n",
    "with open(cv_set_kfold, 'rb') as f:\n",
    "    fold_data = pickle.load(f)\n",
    "kfolds = fold_data['folds']\n",
    "y = fold_data['y']\n",
    "print fold_data['seed']"
   ]
  },
  {
   "cell_type": "code",
   "execution_count": 21,
   "metadata": {
    "collapsed": true
   },
   "outputs": [],
   "source": [
    "d_train = xgb.DMatrix(Xtrain, label=y)\n",
    "d_test = xgb.DMatrix(Xtest)\n",
    "d_val = xgb.DMatrix(Xval, label=y_val)"
   ]
  },
  {
   "cell_type": "markdown",
   "metadata": {},
   "source": [
    "### Train bag of XGBoost models"
   ]
  },
  {
   "cell_type": "code",
   "execution_count": 26,
   "metadata": {
    "collapsed": true
   },
   "outputs": [],
   "source": [
    "seeds = np.random.randint(1,99999,10)"
   ]
  },
  {
   "cell_type": "code",
   "execution_count": null,
   "metadata": {
    "collapsed": false
   },
   "outputs": [
    {
     "name": "stdout",
     "output_type": "stream",
     "text": [
      "[0]\ttrain-auc:0.947327\tleak_eval-auc:0.964024\n",
      "Multiple eval metrics have been passed: 'leak_eval-auc' will be used for early stopping.\n",
      "\n",
      "Will train until leak_eval-auc hasn't improved in 20 rounds.\n"
     ]
    }
   ],
   "source": [
    "params = {'max_depth':11, 'eta':0.05, 'silent':1, 'objective':'binary:logistic' }\n",
    "#param['nthread'] = 1\n",
    "params['eval_metric'] = 'auc'\n",
    "params['subsample'] = 0.86\n",
    "params['colsample_bytree']= 0.92\n",
    "params['colsample_bylevel']= 0.9\n",
    "params['min_child_weight'] = 0\n",
    "params['gamma'] = 0.005\n",
    "params['booster'] = \"gbtree\"\n",
    "params['seed'] = 1712\n",
    "params['num_round'] = 550\n",
    "params['early_stopping'] = 20\n",
    "\n",
    "watchlist  = [(d_train,'train'), (d_val,'leak_eval')]\n",
    "\n",
    "for s in seeds:\n",
    "\n",
    "    params['seed'] = s\n",
    "    params['max_depth'] = np.random.choice([10,11,12])\n",
    "    params['subsample'] = np.random.choice([0.8,0.85,0.9])\n",
    "\n",
    "    eval_result = {}\n",
    "\n",
    "    bst = xgb.train(params, \n",
    "                    d_train, \n",
    "                    num_boost_round=params['num_round'], \n",
    "                    evals=watchlist,\n",
    "                    evals_result=eval_result,\n",
    "                    early_stopping_rounds=params['early_stopping'],\n",
    "                    verbose_eval=20)\n",
    "\n",
    "    y_pred_test = bst.predict(d_test, ntree_limit=bst.best_ntree_limit)\n",
    "    \n",
    "    cv_score = eval_result['leak_eval']['auc'][-1]\n",
    "    \n",
    "    description = {'description': 'XGBoost gbtree model V0 - seed {}'.format(s),\n",
    "                   'params': params,\n",
    "                   'feature_files': feature_files,\n",
    "                   'feature_filter': feat_filter,\n",
    "                   'train': 'all',\n",
    "                   'val': 'cv_test_V3.csv'\n",
    "                   }\n",
    "    \n",
    "    y_pred_leak = merge_prediction_with_leak_data(y_pred_test)\n",
    "    \n",
    "    kag = KaggleResult(y_pred_leak[['activity_id','outcome']], None, cv_score, description, dir_out)\n",
    "    \n",
    "    print('Seed: {} | max_depth: {} | subsample: {} | cv_score {}'.format(s, \n",
    "                                                                          params['max_depth'], \n",
    "                                                                          params['subsample'],\n",
    "                                                                          cv_score))\n"
   ]
  },
  {
   "cell_type": "code",
   "execution_count": null,
   "metadata": {
    "collapsed": true
   },
   "outputs": [],
   "source": []
  }
 ],
 "metadata": {
  "kernelspec": {
   "display_name": "Python 2",
   "language": "python",
   "name": "python2"
  },
  "language_info": {
   "codemirror_mode": {
    "name": "ipython",
    "version": 2
   },
   "file_extension": ".py",
   "mimetype": "text/x-python",
   "name": "python",
   "nbconvert_exporter": "python",
   "pygments_lexer": "ipython2",
   "version": "2.7.11"
  }
 },
 "nbformat": 4,
 "nbformat_minor": 0
}
